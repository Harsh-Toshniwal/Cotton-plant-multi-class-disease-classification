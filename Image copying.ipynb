{
 "cells": [
  {
   "cell_type": "code",
   "execution_count": 1,
   "id": "54c36a7c",
   "metadata": {},
   "outputs": [],
   "source": [
    "import os\n",
    "import shutil\n",
    "import glob\n",
    "import random"
   ]
  },
  {
   "cell_type": "code",
   "execution_count": 2,
   "id": "7e0dbbec",
   "metadata": {},
   "outputs": [],
   "source": [
    "# making folders\n",
    "\n",
    "#test folders\n",
    "\n",
    "os.makedirs(\"D:\\\\College\\\\cotton\\\\test\\\\bacterial blight\")\n",
    "os.makedirs(\"D:\\\\College\\\\cotton\\\\test\\\\curl virus\")\n",
    "os.makedirs(\"D:\\\\College\\\\cotton\\\\test\\\\fussarium wilt\")\n",
    "os.makedirs(\"D:\\\\College\\\\cotton\\\\test\\\\healthy\")\n",
    "\n",
    "\n",
    "#validation \n",
    "\n",
    "os.makedirs(\"D:\\\\College\\\\cotton\\\\validation\\\\bacterial blight\")\n",
    "os.makedirs(\"D:\\\\College\\\\cotton\\\\validation\\\\curl virus\")\n",
    "os.makedirs(\"D:\\\\College\\\\cotton\\\\validation\\\\fussarium wilt\")\n",
    "os.makedirs(\"D:\\\\College\\\\cotton\\\\validation\\\\healthy\")"
   ]
  },
  {
   "cell_type": "code",
   "execution_count": 16,
   "id": "a8951dc6",
   "metadata": {},
   "outputs": [],
   "source": [
    "to_be_moved = random.sample(glob.glob(\"D:\\\\College\\\\cotton\\\\train\\\\bacterial_blight\\\\*.jpg\"), 65)\n",
    "\n",
    "for image in to_be_moved:\n",
    "    new_path = \"D:\\\\College\\\\cotton\\\\test\\\\bacterial blight\\\\\" \n",
    "    shutil.move(image, new_path)"
   ]
  },
  {
   "cell_type": "code",
   "execution_count": 17,
   "id": "21afc29b",
   "metadata": {},
   "outputs": [],
   "source": [
    "to_be_moved = random.sample(glob.glob(\"D:\\\\College\\\\cotton\\\\train\\\\bacterial_blight\\\\*.jpg\"), 65)\n",
    "\n",
    "for image in to_be_moved:\n",
    "    new_path = \"D:\\\\College\\\\cotton\\\\validation\\\\bacterial blight\\\\\" \n",
    "    shutil.move(image, new_path)"
   ]
  },
  {
   "cell_type": "code",
   "execution_count": 18,
   "id": "fa54b05b",
   "metadata": {},
   "outputs": [],
   "source": [
    "to_be_moved = random.sample(glob.glob(\"D:\\\\College\\\\cotton\\\\train\\\\curl_virus\\\\*.jpg\"), 62)\n",
    "\n",
    "for image in to_be_moved:\n",
    "    new_path = \"D:\\\\College\\\\cotton\\\\test\\\\curl virus\\\\\" \n",
    "    shutil.move(image, new_path)"
   ]
  },
  {
   "cell_type": "code",
   "execution_count": 19,
   "id": "293df946",
   "metadata": {},
   "outputs": [],
   "source": [
    "to_be_moved = random.sample(glob.glob(\"D:\\\\College\\\\cotton\\\\train\\\\curl_virus\\\\*.jpg\"), 62)\n",
    "\n",
    "for image in to_be_moved:\n",
    "    new_path = \"D:\\\\College\\\\cotton\\\\validation\\\\curl virus\\\\\" \n",
    "    shutil.move(image, new_path)"
   ]
  },
  {
   "cell_type": "code",
   "execution_count": 20,
   "id": "1257d50b",
   "metadata": {},
   "outputs": [],
   "source": [
    "to_be_moved = random.sample(glob.glob(\"D:\\\\College\\\\cotton\\\\train\\\\fussarium_wilt\\\\*.jpg\"), 62)\n",
    "\n",
    "for image in to_be_moved:\n",
    "    new_path = \"D:\\\\College\\\\cotton\\\\test\\\\fussarium wilt\\\\\" \n",
    "    shutil.move(image, new_path)"
   ]
  },
  {
   "cell_type": "code",
   "execution_count": 24,
   "id": "9c169a67",
   "metadata": {},
   "outputs": [],
   "source": [
    "to_be_moved = random.sample(glob.glob(\"D:\\\\College\\\\cotton\\\\train\\\\fussarium_wilt\\\\*.jpg\"), 62)\n",
    "\n",
    "for image in to_be_moved:\n",
    "    new_path = \"D:\\\\College\\\\cotton\\\\validation\\\\fussarium wilt\\\\\" \n",
    "    shutil.move(image, new_path)"
   ]
  },
  {
   "cell_type": "code",
   "execution_count": 22,
   "id": "e6db111b",
   "metadata": {},
   "outputs": [],
   "source": [
    "to_be_moved = random.sample(glob.glob(\"D:\\\\College\\\\cotton\\\\train\\\\healthy\\\\*.jpg\"), 64)\n",
    "\n",
    "for image in to_be_moved:\n",
    "    new_path = \"D:\\\\College\\\\cotton\\\\test\\\\healthy\\\\\" \n",
    "    shutil.move(image, new_path)"
   ]
  },
  {
   "cell_type": "code",
   "execution_count": 23,
   "id": "7f1e7fe6",
   "metadata": {},
   "outputs": [],
   "source": [
    "to_be_moved = random.sample(glob.glob(\"D:\\\\College\\\\cotton\\\\train\\\\healthy\\\\*.jpg\"), 64)\n",
    "\n",
    "for image in to_be_moved:\n",
    "    new_path = \"D:\\\\College\\\\cotton\\\\validation\\\\healthy\\\\\" \n",
    "    shutil.move(image, new_path)"
   ]
  },
  {
   "cell_type": "code",
   "execution_count": null,
   "id": "312daab1",
   "metadata": {},
   "outputs": [],
   "source": []
  }
 ],
 "metadata": {
  "kernelspec": {
   "display_name": "Python 3 (ipykernel)",
   "language": "python",
   "name": "python3"
  },
  "language_info": {
   "codemirror_mode": {
    "name": "ipython",
    "version": 3
   },
   "file_extension": ".py",
   "mimetype": "text/x-python",
   "name": "python",
   "nbconvert_exporter": "python",
   "pygments_lexer": "ipython3",
   "version": "3.9.7"
  }
 },
 "nbformat": 4,
 "nbformat_minor": 5
}
